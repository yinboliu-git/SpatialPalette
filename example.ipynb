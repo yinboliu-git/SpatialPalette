{
 "cells": [
  {
   "cell_type": "code",
   "execution_count": 1,
   "id": "3278ba42",
   "metadata": {},
   "outputs": [],
   "source": [
    "# In Cell 1 of your Jupyter Notebook\n",
    "# 魔法命令，必须放在单元格开头，用于激活 matplotlib 的交互模式\n",
    "%matplotlib widget"
   ]
  },
  {
   "cell_type": "code",
   "execution_count": 2,
   "id": "5687e315",
   "metadata": {},
   "outputs": [
    {
     "data": {
      "application/vnd.jupyter.widget-view+json": {
       "model_id": "a7032062cc464f64a616d590aeec8bc1",
       "version_major": 2,
       "version_minor": 0
      },
      "text/plain": [
       "VBox(children=(HTML(value='<h1>多功能空间注释平台</h1><hr>'), Tab(children=(VBox(children=(HBox(children=(FileChooser(p…"
      ]
     },
     "metadata": {},
     "output_type": "display_data"
    }
   ],
   "source": [
    "# In Cell 2 of your Jupyter Notebook\n",
    "from annotator import AnnotationApp\n",
    "\n",
    "# 实例化并显示整个应用\n",
    "app = AnnotationApp()\n",
    "app.display_app()"
   ]
  },
  {
   "cell_type": "code",
   "execution_count": null,
   "id": "91b053ef",
   "metadata": {},
   "outputs": [],
   "source": []
  }
 ],
 "metadata": {
  "kernelspec": {
   "display_name": "tg3",
   "language": "python",
   "name": "python3"
  },
  "language_info": {
   "codemirror_mode": {
    "name": "ipython",
    "version": 3
   },
   "file_extension": ".py",
   "mimetype": "text/x-python",
   "name": "python",
   "nbconvert_exporter": "python",
   "pygments_lexer": "ipython3",
   "version": "3.8.18"
  }
 },
 "nbformat": 4,
 "nbformat_minor": 5
}
